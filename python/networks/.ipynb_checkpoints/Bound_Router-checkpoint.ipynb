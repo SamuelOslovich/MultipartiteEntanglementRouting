{
 "cells": [
  {
   "cell_type": "code",
   "execution_count": 2,
   "id": "be80ed27",
   "metadata": {},
   "outputs": [],
   "source": [
    "import networkx as nx\n",
    "import random\n",
    "import math\n",
    "import numpy as np\n",
    "import itertools"
   ]
  },
  {
   "cell_type": "code",
   "execution_count": 8,
   "id": "2bb94df3",
   "metadata": {},
   "outputs": [],
   "source": [
    "N_nets = 100\n",
    "for i in range(0,N_nets):\n",
    "    file = open(\"Nets/\"+str(i)+\".txt\",\"r\")\n",
    "    edges = file.readlines()\n",
    "    \n",
    "    G = nx.Graph()\n",
    "    for edge in edges: \n",
    "        e = edge.strip().split(' ')\n",
    "        #print(e)\n",
    "        G.add_edge(int(e[0]),int(e[1]))\n",
    "    \n"
   ]
  },
  {
   "cell_type": "code",
   "execution_count": 26,
   "id": "0ee46311",
   "metadata": {},
   "outputs": [],
   "source": [
    "def shortest3tree(graph,terminal):\n",
    "    shortest_paths = {}\n",
    "    for node in terminal:\n",
    "        shortest_paths[node] = shortest_path(graph, source=node)\n",
    "    \n",
    "    solution = {\"c\":None, \"dist\":10**10, \"star\":[]}\n",
    "    for central_node in graph.nodes:\n",
    "        distance = -3\n",
    "        for node in terminal:\n",
    "            distance += len(shortest_paths[node][central_node])\n",
    "        \n",
    "        if distance < solution[\"dist\"]:\n",
    "            solution = {\"c\":central_node, \n",
    "                        \"dist\":distance, \n",
    "                        \"star\":[shortest_paths[node][central_node] for node in terminal]}\n",
    "    #print(shortest_paths)\n",
    "    return solution\n"
   ]
  },
  {
   "cell_type": "code",
   "execution_count": null,
   "id": "865171ec",
   "metadata": {},
   "outputs": [],
   "source": [
    "def nondominatedpaths(graph,source):\n",
    "    \n",
    "    "
   ]
  },
  {
   "cell_type": "code",
   "execution_count": 33,
   "id": "6a623629",
   "metadata": {},
   "outputs": [
    {
     "data": {
      "text/plain": [
       "{'c': 10, 'dist': 3, 'star': [[10], [52, 10], [34, 46, 10]]}"
      ]
     },
     "execution_count": 33,
     "metadata": {},
     "output_type": "execute_result"
    }
   ],
   "source": [
    "g = nx.random_internet_as_graph(1000)\n",
    "d = shortest3tree(g,[10,52,34])\n",
    "d"
   ]
  },
  {
   "cell_type": "code",
   "execution_count": 34,
   "id": "a46efdbd",
   "metadata": {},
   "outputs": [
    {
     "ename": "NameError",
     "evalue": "name 'itertools' is not defined",
     "output_type": "error",
     "traceback": [
      "\u001b[0;31m---------------------------------------------------------------------------\u001b[0m",
      "\u001b[0;31mNameError\u001b[0m                                 Traceback (most recent call last)",
      "Input \u001b[0;32mIn [34]\u001b[0m, in \u001b[0;36m<module>\u001b[0;34m\u001b[0m\n\u001b[1;32m      1\u001b[0m listOLists \u001b[38;5;241m=\u001b[39m [[\u001b[38;5;241m1\u001b[39m,\u001b[38;5;241m2\u001b[39m,\u001b[38;5;241m3\u001b[39m],[\u001b[38;5;241m4\u001b[39m,\u001b[38;5;241m5\u001b[39m,\u001b[38;5;241m6\u001b[39m],[\u001b[38;5;241m7\u001b[39m,\u001b[38;5;241m8\u001b[39m,\u001b[38;5;241m9\u001b[39m,\u001b[38;5;241m10\u001b[39m]]\n\u001b[0;32m----> 2\u001b[0m \u001b[38;5;28;01mfor\u001b[39;00m l \u001b[38;5;129;01min\u001b[39;00m \u001b[43mitertools\u001b[49m\u001b[38;5;241m.\u001b[39mproduct(\u001b[38;5;241m*\u001b[39mlistOLists):\n\u001b[1;32m      3\u001b[0m     \u001b[38;5;28mprint\u001b[39m(l)\n",
      "\u001b[0;31mNameError\u001b[0m: name 'itertools' is not defined"
     ]
    }
   ],
   "source": [
    "listOLists = [[1,2,3],[4,5,6],[7,8,9,10]]\n",
    "for l in itertools.product(*listOLists):\n",
    "    print(l)"
   ]
  },
  {
   "cell_type": "code",
   "execution_count": null,
   "id": "34433e13",
   "metadata": {},
   "outputs": [],
   "source": []
  }
 ],
 "metadata": {
  "kernelspec": {
   "display_name": "Python 3 (ipykernel)",
   "language": "python",
   "name": "python3"
  },
  "language_info": {
   "codemirror_mode": {
    "name": "ipython",
    "version": 3
   },
   "file_extension": ".py",
   "mimetype": "text/x-python",
   "name": "python",
   "nbconvert_exporter": "python",
   "pygments_lexer": "ipython3",
   "version": "3.8.9"
  }
 },
 "nbformat": 4,
 "nbformat_minor": 5
}
