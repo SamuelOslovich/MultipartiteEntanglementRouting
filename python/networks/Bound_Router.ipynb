{
 "cells": [
  {
   "cell_type": "code",
   "execution_count": 35,
   "id": "82c2ef13",
   "metadata": {},
   "outputs": [],
   "source": [
    "import networkx as nx\n",
    "import random\n",
    "import math\n",
    "import numpy as np\n",
    "import itertools"
   ]
  },
  {
   "cell_type": "code",
   "execution_count": 8,
   "id": "6ee879dd",
   "metadata": {},
   "outputs": [],
   "source": [
    "N_nets = 100\n",
    "for i in range(0,N_nets):\n",
    "    file = open(\"Nets/\"+str(i)+\".txt\",\"r\")\n",
    "    edges = file.readlines()\n",
    "    \n",
    "    G = nx.Graph()\n",
    "    for edge in edges: \n",
    "        e = edge.strip().split(' ')\n",
    "        #print(e)\n",
    "        G.add_edge(int(e[0]),int(e[1]))\n",
    "    \n"
   ]
  },
  {
   "cell_type": "code",
   "execution_count": 26,
   "id": "ea446427",
   "metadata": {},
   "outputs": [],
   "source": [
    "def shortest3tree(graph,terminal):\n",
    "    shortest_paths = {}\n",
    "    for node in terminal:\n",
    "        shortest_paths[node] = shortest_path(graph, source=node)\n",
    "    \n",
    "    solution = {\"c\":None, \"dist\":10**10, \"star\":[]}\n",
    "    for central_node in graph.nodes:\n",
    "        distance = -3\n",
    "        for node in terminal:\n",
    "            distance += len(shortest_paths[node][central_node])\n",
    "        \n",
    "        if distance < solution[\"dist\"]:\n",
    "            solution = {\"c\":central_node, \n",
    "                        \"dist\":distance, \n",
    "                        \"star\":[shortest_paths[node][central_node] for node in terminal]}\n",
    "    #print(shortest_paths)\n",
    "    return solution\n"
   ]
  },
  {
   "cell_type": "code",
   "execution_count": null,
   "id": "d7eec4a6",
   "metadata": {},
   "outputs": [],
   "source": [
    "def nondominatedpaths(graph,source):\n",
    "    \n",
    "    "
   ]
  },
  {
   "cell_type": "code",
   "execution_count": 33,
   "id": "58c8316a",
   "metadata": {},
   "outputs": [
    {
     "data": {
      "text/plain": [
       "{'c': 10, 'dist': 3, 'star': [[10], [52, 10], [34, 46, 10]]}"
      ]
     },
     "execution_count": 33,
     "metadata": {},
     "output_type": "execute_result"
    }
   ],
   "source": [
    "g = nx.random_internet_as_graph(1000)\n",
    "d = shortest3tree(g,[10,52,34])\n",
    "d"
   ]
  },
  {
   "cell_type": "code",
   "execution_count": 36,
   "id": "e4d9dbc9",
   "metadata": {},
   "outputs": [
    {
     "name": "stdout",
     "output_type": "stream",
     "text": [
      "(1, 4, 7)\n",
      "(1, 4, 8)\n",
      "(1, 4, 9)\n",
      "(1, 4, 10)\n",
      "(1, 5, 7)\n",
      "(1, 5, 8)\n",
      "(1, 5, 9)\n",
      "(1, 5, 10)\n",
      "(1, 6, 7)\n",
      "(1, 6, 8)\n",
      "(1, 6, 9)\n",
      "(1, 6, 10)\n",
      "(2, 4, 7)\n",
      "(2, 4, 8)\n",
      "(2, 4, 9)\n",
      "(2, 4, 10)\n",
      "(2, 5, 7)\n",
      "(2, 5, 8)\n",
      "(2, 5, 9)\n",
      "(2, 5, 10)\n",
      "(2, 6, 7)\n",
      "(2, 6, 8)\n",
      "(2, 6, 9)\n",
      "(2, 6, 10)\n",
      "(3, 4, 7)\n",
      "(3, 4, 8)\n",
      "(3, 4, 9)\n",
      "(3, 4, 10)\n",
      "(3, 5, 7)\n",
      "(3, 5, 8)\n",
      "(3, 5, 9)\n",
      "(3, 5, 10)\n",
      "(3, 6, 7)\n",
      "(3, 6, 8)\n",
      "(3, 6, 9)\n",
      "(3, 6, 10)\n"
     ]
    }
   ],
   "source": [
    "listOLists = [[1,2,3],[4,5,6],[7,8,9,10]]\n",
    "for l in itertools.product(*listOLists):\n",
    "    print(l)"
   ]
  },
  {
   "cell_type": "code",
   "execution_count": null,
   "id": "84d3aa3b",
   "metadata": {},
   "outputs": [],
   "source": []
  }
 ],
 "metadata": {
  "kernelspec": {
   "display_name": "Python 3 (ipykernel)",
   "language": "python",
   "name": "python3"
  },
  "language_info": {
   "codemirror_mode": {
    "name": "ipython",
    "version": 3
   },
   "file_extension": ".py",
   "mimetype": "text/x-python",
   "name": "python",
   "nbconvert_exporter": "python",
   "pygments_lexer": "ipython3",
   "version": "3.8.9"
  }
 },
 "nbformat": 4,
 "nbformat_minor": 5
}
